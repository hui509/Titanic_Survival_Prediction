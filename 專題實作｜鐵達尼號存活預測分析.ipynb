{
  "nbformat": 4,
  "nbformat_minor": 0,
  "metadata": {
    "colab": {
      "provenance": [],
      "authorship_tag": "ABX9TyOd+L/xy/WLJEwHr59cGYg2",
      "include_colab_link": true
    },
    "kernelspec": {
      "name": "python3",
      "display_name": "Python 3"
    },
    "language_info": {
      "name": "python"
    }
  },
  "cells": [
    {
      "cell_type": "markdown",
      "metadata": {
        "id": "view-in-github",
        "colab_type": "text"
      },
      "source": [
        "<a href=\"https://colab.research.google.com/github/hui509/Titanic_Survival_Prediction/blob/main/%E5%B0%88%E9%A1%8C%E5%AF%A6%E4%BD%9C%EF%BD%9C%E9%90%B5%E9%81%94%E5%B0%BC%E8%99%9F%E5%AD%98%E6%B4%BB%E9%A0%90%E6%B8%AC%E5%88%86%E6%9E%90.ipynb\" target=\"_parent\"><img src=\"https://colab.research.google.com/assets/colab-badge.svg\" alt=\"Open In Colab\"/></a>"
      ]
    },
    {
      "cell_type": "markdown",
      "source": [
        "# **載入資料**"
      ],
      "metadata": {
        "id": "HhkKXGOnNy2d"
      }
    },
    {
      "cell_type": "code",
      "execution_count": 354,
      "metadata": {
        "id": "FM3oIjAUNsRX"
      },
      "outputs": [],
      "source": [
        "# 載入訓練集、測試集、示範檔資料\n",
        "import pandas as pd\n",
        "train_url = 'https://raw.githubusercontent.com/hui509/Titanic_Survival_Prediction/main/raw_data/train.csv'\n",
        "test_url = 'https://raw.githubusercontent.com/hui509/Titanic_Survival_Prediction/main/raw_data/test.csv'\n",
        "submit_url = 'https://raw.githubusercontent.com/hui509/Titanic_Survival_Prediction/main/raw_data/gender_submission.csv'\n",
        "\n",
        "train = pd.read_csv(train_url)\n",
        "test = pd.read_csv(test_url)\n",
        "submit = pd.read_csv(submit_url)"
      ]
    },
    {
      "cell_type": "markdown",
      "source": [
        "# **認識資料**"
      ],
      "metadata": {
        "id": "L1PzKYelmPgx"
      }
    },
    {
      "cell_type": "markdown",
      "source": [
        "1. 訓練集｜891筆資料，12個欄位，包含Survival，其中，Age、Cabin、Embarked有缺失值。\n",
        "\n",
        "2. 測試集｜418筆資料，11個欄位，缺少Survival，其中，Age、Fare、Cabin有缺失值。"
      ],
      "metadata": {
        "id": "n2qQzVQ1nhtQ"
      }
    },
    {
      "cell_type": "code",
      "source": [
        "# 觀察訓練集\n",
        "train.info()"
      ],
      "metadata": {
        "id": "svVFPXCNmSMA"
      },
      "execution_count": null,
      "outputs": []
    },
    {
      "cell_type": "code",
      "source": [
        "# 觀察測試集\n",
        "test.info()"
      ],
      "metadata": {
        "id": "cMlqK_Vfmwf3"
      },
      "execution_count": null,
      "outputs": []
    },
    {
      "cell_type": "code",
      "source": [
        "# 訓練集缺失值統計\n",
        "train.isnull().sum()"
      ],
      "metadata": {
        "id": "uieHlnVHoFKn"
      },
      "execution_count": null,
      "outputs": []
    },
    {
      "cell_type": "code",
      "source": [
        "# 測試集缺失值統計\n",
        "test.isnull().sum()"
      ],
      "metadata": {
        "id": "nDZ49rUbotho"
      },
      "execution_count": null,
      "outputs": []
    },
    {
      "cell_type": "markdown",
      "source": [
        "# **合併訓練集與測試集**"
      ],
      "metadata": {
        "id": "rRuqY1fuxO6-"
      }
    },
    {
      "cell_type": "code",
      "source": [
        "# 合併訓練集、測試集，方便後續模型分析\n",
        "data = train._append(test)\n",
        "data.reset_index(inplace=True, drop=True)"
      ],
      "metadata": {
        "id": "2lssOwPOxTyk"
      },
      "execution_count": 359,
      "outputs": []
    },
    {
      "cell_type": "markdown",
      "source": [
        "# **資料探索與分析（EDA）**"
      ],
      "metadata": {
        "id": "TN6Kdq9piZWT"
      }
    },
    {
      "cell_type": "markdown",
      "source": [
        "1. 罹難者中，多屬於低票價的乘客。\n",
        "2. Age 中，15歲以下的少年存活機率較高。\n",
        "3. Sex 中，女性乘客的存活機會高於男性。\n",
        "4. Pclass 中，一等艙的乘客有較高的存活機會。\n",
        "5. Embarked 中，從 Cherbourg 登船者的存活機會較高。"
      ],
      "metadata": {
        "id": "ehgbpIFCieUE"
      }
    },
    {
      "cell_type": "code",
      "source": [
        "# 使用 Pearson 係數計算相關性\n",
        "cor = data.corr()\n",
        "\n",
        "# 使用seaborn和matplotlib，視覺化呈現相關性\n",
        "import seaborn as sns\n",
        "import matplotlib.pyplot as plt\n",
        "plt.figure(figsize=(10,8))\n",
        "sns.heatmap(cor,annot=True,linewidth=0.5,cmap='coolwarm')\n",
        "plt.title('Correlation Matrix of Titanic')\n",
        "plt.show()"
      ],
      "metadata": {
        "id": "OfExjfr-ilG5"
      },
      "execution_count": null,
      "outputs": []
    },
    {
      "cell_type": "code",
      "source": [
        "# 定義distribution函數，以KDE圖觀察欄位與Survived之間的關係\n",
        "\n",
        "def distribution(data,var,target,**kwargs):\n",
        "  # 設定row和col參數\n",
        "  row = kwargs.get('row',None)\n",
        "  col = kwargs.get('col',None)\n",
        "\n",
        "  # 使用seaborn函數製圖\n",
        "  facet = sns.FacetGrid(data,row=row,col=col,hue=target,aspect=3)\n",
        "  facet.map(sns.kdeplot,var,fill=True)\n",
        "  facet.set(xlim=(0,data[var].max()))\n",
        "  facet.add_legend()\n",
        "\n",
        "# 觀察Fare和Survived的關係\n",
        "distribution(data,var='Fare',target='Survived')\n",
        "plt.show()\n",
        "\n",
        "# 觀察Age和Survived的關係\n",
        "distribution(data,var='Age',target='Survived')\n",
        "plt.show()"
      ],
      "metadata": {
        "id": "uwGz4IpfiwxR"
      },
      "execution_count": null,
      "outputs": []
    },
    {
      "cell_type": "code",
      "source": [
        "# 定義categories函數，以長條圖觀察欄位與Survived之間的關係\n",
        "\n",
        "def categories(data,cat,target,**kwargs):\n",
        "  # 設定row和col參數\n",
        "  row = kwargs.get('row',None)\n",
        "  col = kwargs.get('col',None)\n",
        "\n",
        "  # 使用seaborn函數製圖\n",
        "  facet = sns.FacetGrid(data,row=row,col=col,height=4)\n",
        "  facet.map(sns.barplot,cat,target,color='lightblue')\n",
        "  facet.add_legend()\n",
        "\n",
        "# 觀察Sex和Survived的關係\n",
        "categories(data,cat='Sex',target='Survived')\n",
        "plt.show()\n",
        "\n",
        "# 觀察Pclass和Survived的關係\n",
        "categories(data,cat='Pclass',target='Survived')\n",
        "plt.show()\n",
        "\n",
        "# 觀察Embarked和Survived的關係\n",
        "categories(data,cat='Embarked',target='Survived')\n",
        "plt.show()"
      ],
      "metadata": {
        "id": "7n5TRQy4i-uq"
      },
      "execution_count": null,
      "outputs": []
    },
    {
      "cell_type": "markdown",
      "source": [
        "# **資料清理與型態轉換**"
      ],
      "metadata": {
        "id": "hWzRsMc_yUzG"
      }
    },
    {
      "cell_type": "markdown",
      "source": [
        "1. 缺失值｜Age、Fare 以平均數填補\n",
        "\n",
        "2. 型態轉換｜Sex、Embarked\n",
        "\n",
        "\n",
        "\n",
        "\n",
        "\n"
      ],
      "metadata": {
        "id": "DBcw2Jn5BLrR"
      }
    },
    {
      "cell_type": "code",
      "source": [
        "# Age 和 fare 為數值型態，以平均數填補\n",
        "data['Age'].fillna(data['Age'].mean(),inplace=True)\n",
        "data['Fare'].fillna(data['Fare'].mean(),inplace=True)"
      ],
      "metadata": {
        "id": "w86tc8mV-6rR"
      },
      "execution_count": 363,
      "outputs": []
    },
    {
      "cell_type": "code",
      "source": [
        "# 使用 OneHotEncoder 轉換 Embarked 為數值型態\n",
        "data = pd.get_dummies(data,columns=['Embarked'],dtype=int)"
      ],
      "metadata": {
        "id": "xDV0FhEjBAcR"
      },
      "execution_count": 364,
      "outputs": []
    },
    {
      "cell_type": "code",
      "source": [
        "# 將 Sex 轉換為數值型態\n",
        "data['Sex'] = data['Sex'].replace({'male':1,'female':0})"
      ],
      "metadata": {
        "id": "AJ8Sv5QnyZeo"
      },
      "execution_count": 365,
      "outputs": []
    },
    {
      "cell_type": "markdown",
      "source": [
        "# **特徵工程**"
      ],
      "metadata": {
        "id": "k_QAPXp6pORv"
      }
    },
    {
      "cell_type": "markdown",
      "source": [
        "1. 船上親屬人數的多寡，是否會影響生存機會？ **親屬人數2-4人存活機率高。**\n",
        "\n",
        "\n",
        "2. 乘客頭銜隱含社會地位，是否會影響生存機會？ **具有女性頭銜的乘客，存活率較高。**"
      ],
      "metadata": {
        "id": "7q4jaq9CpUMX"
      }
    },
    {
      "cell_type": "code",
      "source": [
        "#新增FamilySize欄位統整乘客在船上的親屬人數\n",
        "data['FamilySize'] = data['SibSp']+data['Parch']+1\n",
        "\n",
        "#使用distribution函數，以KDE圖觀察與Survived之間的關係\n",
        "distribution(data,var='FamilySize',target='Survived')\n",
        "plt.show()\n",
        "\n",
        "# 定義family函數，將親屬人數進行分類\n",
        "def family(size):\n",
        "  if size == 1:\n",
        "    return 'Single'\n",
        "  elif 2<=size<=4:\n",
        "    return 'Small'\n",
        "  else:\n",
        "    return 'Large'\n",
        "\n",
        "# 新增Family_Type說明所屬分類：單身、小家庭、大家庭\n",
        "data['Family_Type'] = data['FamilySize'].map(family)\n",
        "\n",
        "# 使用OneHotEncoder轉換類別欄位並join數據\n",
        "Family_ohe = pd.get_dummies(data['Family_Type'], prefix='Family_')\n",
        "data = data.join(Family_ohe)"
      ],
      "metadata": {
        "id": "IZGQM5eCpSHs"
      },
      "execution_count": null,
      "outputs": []
    },
    {
      "cell_type": "code",
      "source": [
        "# 定義extraction函數，抽取乘客頭銜\n",
        "def extraction(name):\n",
        "  title = name.split(',')[1].split('.')[0].strip()\n",
        "  return title\n",
        "\n",
        "# 新增Raw Title欄位放置抽取出的乘客頭銜\n",
        "data['Raw Title'] = data['Name'].map(extraction)\n",
        "\n",
        "# 觀察Name中頭銜的種類\n",
        "title_set = set()\n",
        "for name in data['Name']:\n",
        "  title_set.add(extraction(name))\n",
        "\n",
        "# 製作title對應的dictionary\n",
        "title_dict = {\n",
        "'Col':      'Officer',\n",
        "'Major':     'Officer',\n",
        "'Capt':      'Officer',\n",
        "'Jonkheer':    'Royalty',\n",
        "'Don':      'Royalty',\n",
        "'Dona':      'Royalty',\n",
        "'Sir':      'Royalty',\n",
        "'the Countess': 'Royalty',\n",
        "'Lady':      'Royalty',\n",
        "'Dr':       'Royalty',\n",
        "'Rev':      'Royalty',\n",
        "'Mr':       'Mr',\n",
        "'Ms':       'Ms',\n",
        "'Miss':      'Miss',\n",
        "'Mlle':      'Miss',\n",
        "'Mrs':       'Mrs',\n",
        "'Mme':       'Mrs',\n",
        "'Master':     'Master'\n",
        "}\n",
        "\n",
        "# 新增Title欄位放置經轉換的頭銜\n",
        "data['Title'] = data['Raw Title'].map(title_dict)\n",
        "\n",
        "# 使用categories函數，以長條圖觀察Title與Survived的關係\n",
        "categories(data,cat='Title',target='Survived')\n",
        "plt.show()\n",
        "\n",
        "# 使用OneHotEncoder轉換類別欄位並join數據\n",
        "Title_ohe = pd.get_dummies(data['Title'], prefix='Title_')\n",
        "data = data.join(Title_ohe)"
      ],
      "metadata": {
        "id": "fl9_k0upz5kZ"
      },
      "execution_count": null,
      "outputs": []
    },
    {
      "cell_type": "code",
      "source": [
        "# 刪除模型無法運算的欄位\n",
        "data.drop(columns=['PassengerId','Name','Ticket','Cabin','Family_Type','Raw Title','Title'],axis=1,inplace=True)"
      ],
      "metadata": {
        "id": "9doQJDL20b3r"
      },
      "execution_count": 368,
      "outputs": []
    },
    {
      "cell_type": "markdown",
      "source": [
        "# **模型分析**"
      ],
      "metadata": {
        "id": "prDwEkyWxIft"
      }
    },
    {
      "cell_type": "code",
      "source": [
        "# 載入模型\n",
        "from sklearn.linear_model import LogisticRegression\n",
        "from sklearn.model_selection import cross_val_score\n",
        "from sklearn.svm import SVC\n",
        "from sklearn.tree import DecisionTreeClassifier\n",
        "from sklearn.ensemble import RandomForestClassifier\n",
        "from sklearn.neighbors import KNeighborsClassifier\n",
        "\n",
        "# 產生訓練集和測試集\n",
        "Train = data[ pd.notnull(data.Survived) ].copy()\n",
        "Test = data[ pd.isnull(data.Survived) ].copy()"
      ],
      "metadata": {
        "id": "5BzVHPinxMnj"
      },
      "execution_count": 369,
      "outputs": []
    },
    {
      "cell_type": "code",
      "source": [
        "# X_Train 為訓練集的特徵欄位\n",
        "# Y_Train 為訓練集的標籤欄位\n",
        "X_Train = Train.drop( ['Survived'], axis=1 )\n",
        "Y_Train = Train.Survived\n",
        "\n",
        "# 測試集刪除 Survived 欄位\n",
        "Test.drop( ['Survived'], axis=1, inplace=True )"
      ],
      "metadata": {
        "id": "GiuZJw1oyG2C"
      },
      "execution_count": 370,
      "outputs": []
    },
    {
      "cell_type": "code",
      "source": [
        "# 使用Logistic Regression分析\n",
        "log = LogisticRegression(random_state=0,max_iter=3000)\n",
        "log.fit( X_Train, Y_Train )\n",
        "log_score = cross_val_score(log,X_Train,Y_Train.values.ravel(),cv=5,scoring='accuracy').mean()\n",
        "print(log_score)"
      ],
      "metadata": {
        "id": "6ASZaI7_0FcG",
        "colab": {
          "base_uri": "https://localhost:8080/"
        },
        "outputId": "75811123-5e53-45f6-d1f8-9aee849e0c9d"
      },
      "execution_count": 371,
      "outputs": [
        {
          "output_type": "stream",
          "name": "stdout",
          "text": [
            "0.8237838177138912\n"
          ]
        }
      ]
    },
    {
      "cell_type": "code",
      "source": [
        "# 使用SVC分析\n",
        "svc = SVC()\n",
        "svc.fit( X_Train, Y_Train )\n",
        "svc_score = cross_val_score(svc,X_Train,Y_Train.values.ravel(),cv=5,scoring='accuracy').mean()\n",
        "print(svc_score)"
      ],
      "metadata": {
        "colab": {
          "base_uri": "https://localhost:8080/"
        },
        "id": "v6T4IPwg681N",
        "outputId": "4b93896f-215b-4b5e-a4ef-d52d6b5d660a"
      },
      "execution_count": 372,
      "outputs": [
        {
          "output_type": "stream",
          "name": "stdout",
          "text": [
            "0.6723808925993346\n"
          ]
        }
      ]
    },
    {
      "cell_type": "code",
      "source": [
        "# 使用KNN分析\n",
        "KNN = KNeighborsClassifier()\n",
        "KNN.fit( X_Train, Y_Train )\n",
        "KNN_score = cross_val_score(KNN,X_Train,Y_Train.values.ravel(),cv=5,scoring='accuracy').mean()\n",
        "print(KNN_score)"
      ],
      "metadata": {
        "colab": {
          "base_uri": "https://localhost:8080/"
        },
        "id": "WVLCsJGS_U6C",
        "outputId": "34750318-ef98-4d3a-8236-972fec5b689f"
      },
      "execution_count": 373,
      "outputs": [
        {
          "output_type": "stream",
          "name": "stdout",
          "text": [
            "0.7273240851170673\n"
          ]
        }
      ]
    },
    {
      "cell_type": "code",
      "source": [
        "# 使用Random Forest Classifier分析\n",
        "random_forest = RandomForestClassifier()\n",
        "random_forest.fit( X_Train, Y_Train )\n",
        "random_forest_score = cross_val_score(random_forest,X_Train,Y_Train.values.ravel(),cv=5,scoring='accuracy').mean()\n",
        "print(random_forest_score)"
      ],
      "metadata": {
        "colab": {
          "base_uri": "https://localhost:8080/"
        },
        "id": "I8bVanTZBReK",
        "outputId": "4faa0aba-cf29-4ed3-d40d-a20c696b598a"
      },
      "execution_count": 374,
      "outputs": [
        {
          "output_type": "stream",
          "name": "stdout",
          "text": [
            "0.8069612704789405\n"
          ]
        }
      ]
    },
    {
      "cell_type": "code",
      "source": [
        "# 使用Decision Tree Classifier分析\n",
        "decision_tree = DecisionTreeClassifier()\n",
        "decision_tree.fit( X_Train, Y_Train )\n",
        "decision_tree_score = cross_val_score(decision_tree,X_Train,Y_Train.values.ravel(),cv=5,scoring='accuracy').mean()\n",
        "print(decision_tree_score)"
      ],
      "metadata": {
        "colab": {
          "base_uri": "https://localhost:8080/"
        },
        "id": "XcxToWuzFL8w",
        "outputId": "b9fc9e36-51ef-4af5-cc0b-584b94ef07e6"
      },
      "execution_count": 375,
      "outputs": [
        {
          "output_type": "stream",
          "name": "stdout",
          "text": [
            "0.7710564308580754\n"
          ]
        }
      ]
    },
    {
      "cell_type": "markdown",
      "source": [
        "# **模型優化**"
      ],
      "metadata": {
        "id": "ESgsWwY5b_uA"
      }
    },
    {
      "cell_type": "code",
      "source": [
        "# 載入套件\n",
        "from sklearn.model_selection import GridSearchCV"
      ],
      "metadata": {
        "id": "drXbRtRK7sr3"
      },
      "execution_count": 376,
      "outputs": []
    },
    {
      "cell_type": "markdown",
      "source": [
        "1. **Logistic Regression**"
      ],
      "metadata": {
        "id": "N1a9yQFe_FuT"
      }
    },
    {
      "cell_type": "code",
      "source": [
        "# 參數調整Logistic Regression\n",
        "clf = GridSearchCV(log,\n",
        "    {'C': [0.01, 0.1, 1, 10],'solver': ['liblinear','lbfgs']}, cv=5)\n",
        "clf.fit( X_Train, Y_Train )\n",
        "\n",
        "# 取得調整後的各種結果\n",
        "df = pd.DataFrame(clf.cv_results_)\n",
        "df[['param_C','param_solver','mean_test_score']].sort_values(by='mean_test_score',ascending = False)\n",
        "# print(clf.best_score_)\n",
        "# print(clf.best_params_)"
      ],
      "metadata": {
        "id": "aqgA-MqhX5Yy"
      },
      "execution_count": null,
      "outputs": []
    },
    {
      "cell_type": "code",
      "source": [
        "# 使用最佳的參數，再次進行Logistic Regression分析\n",
        "log = LogisticRegression(C=10,solver='liblinear',random_state=0,max_iter=3000)\n",
        "log.fit( X_Train, Y_Train )\n",
        "log_score_new = cross_val_score(log,X_Train,Y_Train.values.ravel(),cv=5,scoring='accuracy').mean()\n",
        "print(log_score_new)"
      ],
      "metadata": {
        "colab": {
          "base_uri": "https://localhost:8080/"
        },
        "id": "rf6bggtzisJJ",
        "outputId": "f151dc12-7162-49ff-ecc6-df5da51b03e3"
      },
      "execution_count": 378,
      "outputs": [
        {
          "output_type": "stream",
          "name": "stdout",
          "text": [
            "0.8260184545853996\n"
          ]
        }
      ]
    },
    {
      "cell_type": "markdown",
      "source": [
        "2. **SVC**"
      ],
      "metadata": {
        "id": "CDT3Q1Nq_Ljy"
      }
    },
    {
      "cell_type": "code",
      "source": [
        "# 參數調整SVC\n",
        "clf = GridSearchCV(svc,\n",
        "    {'C': [0.1,1,10],'kernel':['rbf'],'gamma':[0.05, 0.1]},cv=5,n_jobs=6)\n",
        "clf.fit( X_Train, Y_Train )\n",
        "\n",
        "# 取得調整後的各種結果\n",
        "df = pd.DataFrame(clf.cv_results_)\n",
        "df[['param_C','param_kernel','param_gamma','mean_test_score']].sort_values(by='mean_test_score',ascending = False)\n",
        "# print(clf.best_score_)\n",
        "# print(clf.best_params_)"
      ],
      "metadata": {
        "id": "AACaFc-W7pEP"
      },
      "execution_count": null,
      "outputs": []
    },
    {
      "cell_type": "code",
      "source": [
        "# 使用最佳的參數，再次進行SVC分析\n",
        "svc = SVC(C=10,kernel='rbf',gamma=0.05)\n",
        "svc.fit( X_Train, Y_Train )\n",
        "svc_score_new = cross_val_score(svc,X_Train,Y_Train.values.ravel(),cv=5,scoring='accuracy').mean()\n",
        "print(svc_score_new)"
      ],
      "metadata": {
        "colab": {
          "base_uri": "https://localhost:8080/"
        },
        "id": "708VIivs8bD7",
        "outputId": "47800d0c-d36a-4c9b-f58c-f42d8acadea8"
      },
      "execution_count": 380,
      "outputs": [
        {
          "output_type": "stream",
          "name": "stdout",
          "text": [
            "0.7441654635616094\n"
          ]
        }
      ]
    },
    {
      "cell_type": "markdown",
      "source": [
        "3. **KNN**"
      ],
      "metadata": {
        "id": "nnbsu295_RKx"
      }
    },
    {
      "cell_type": "code",
      "source": [
        "# 參數調整KNN\n",
        "clf = GridSearchCV(KNN,\n",
        "    {'n_neighbors': [3, 5, 7, 9],\n",
        "     'weights': ['uniform', 'distance']},cv=5)\n",
        "clf.fit( X_Train, Y_Train )\n",
        "\n",
        "# 取得調整後的各種結果\n",
        "df = pd.DataFrame(clf.cv_results_)\n",
        "df[['param_n_neighbors','param_weights','mean_test_score']].sort_values(by='mean_test_score',ascending = False)\n",
        "# print(clf.best_score_)\n",
        "# print(clf.best_params_)"
      ],
      "metadata": {
        "id": "PSqor9uIAFWq"
      },
      "execution_count": null,
      "outputs": []
    },
    {
      "cell_type": "code",
      "source": [
        "# 使用最佳的參數，再次進行KNN分析\n",
        "KNN = KNeighborsClassifier(n_neighbors=5,weights='uniform')\n",
        "KNN.fit( X_Train, Y_Train )\n",
        "KNN_score_new = cross_val_score(KNN,X_Train,Y_Train.values.ravel(),cv=5,scoring='accuracy').mean()\n",
        "print(KNN_score_new)"
      ],
      "metadata": {
        "colab": {
          "base_uri": "https://localhost:8080/"
        },
        "id": "5psr4tD8Aebi",
        "outputId": "67c88784-961d-4305-976c-01ea8d63deee"
      },
      "execution_count": 382,
      "outputs": [
        {
          "output_type": "stream",
          "name": "stdout",
          "text": [
            "0.7273240851170673\n"
          ]
        }
      ]
    },
    {
      "cell_type": "markdown",
      "source": [
        "4. Random Forest Classifier"
      ],
      "metadata": {
        "id": "dtL7itiMBiex"
      }
    },
    {
      "cell_type": "code",
      "source": [
        "# 參數調整Random Forest Classifier\n",
        "clf = GridSearchCV(random_forest,\n",
        "    {'n_estimators': [10, 50],\n",
        "    'max_depth': [4, 6, 8],\n",
        "    'min_samples_split': [2, 5, 10],\n",
        "    'min_samples_leaf': [1, 2, 4],\n",
        "    'max_features': ['auto', 'sqrt']},cv=5)\n",
        "clf.fit( X_Train, Y_Train )\n",
        "\n",
        "# 取得調整後的各種結果\n",
        "df = pd.DataFrame(clf.cv_results_)\n",
        "df[['param_n_estimators','param_max_depth','param_min_samples_leaf','param_min_samples_split','param_max_features','mean_test_score']].sort_values(by='mean_test_score',ascending = False)\n",
        "# print(clf.best_score_)\n",
        "# print(clf.best_params_)"
      ],
      "metadata": {
        "id": "eo9QGyWbCK6j"
      },
      "execution_count": null,
      "outputs": []
    },
    {
      "cell_type": "code",
      "source": [
        "# 使用最佳的參數，再次進行Random Forest Classifier分析\n",
        "random_forest = RandomForestClassifier(n_estimators=50,max_depth=4,min_samples_leaf=2,min_samples_split=2,max_features='sqrt')\n",
        "random_forest.fit( X_Train, Y_Train )\n",
        "random_forest_score_new = cross_val_score(random_forest,X_Train,Y_Train.values.ravel(),cv=5,scoring='accuracy').mean()\n",
        "print(random_forest_score_new)"
      ],
      "metadata": {
        "colab": {
          "base_uri": "https://localhost:8080/"
        },
        "id": "vjWeurp9DbwK",
        "outputId": "c90344ab-4250-4c4d-bbed-2adaa0afef5a"
      },
      "execution_count": 384,
      "outputs": [
        {
          "output_type": "stream",
          "name": "stdout",
          "text": [
            "0.8316301550436258\n"
          ]
        }
      ]
    },
    {
      "cell_type": "markdown",
      "source": [
        "5. Decision Tree Classifier"
      ],
      "metadata": {
        "id": "bWduUQsVGkVX"
      }
    },
    {
      "cell_type": "code",
      "source": [
        "# 參數調整Decision Tree Classifier\n",
        "clf = GridSearchCV(decision_tree,\n",
        "    {'criterion': ['gini', 'entropy'],\n",
        "    'max_depth': [4, 6, 8],\n",
        "    'min_samples_split': [2, 5, 10],\n",
        "    'min_samples_leaf': [1, 2, 4]},cv=5)\n",
        "clf.fit( X_Train, Y_Train )\n",
        "\n",
        "# 取得調整後的各種結果\n",
        "df = pd.DataFrame(clf.cv_results_)\n",
        "df[['param_criterion','param_max_depth','param_min_samples_split','param_min_samples_leaf','mean_test_score']].sort_values(by='mean_test_score',ascending = False)\n",
        "# print(clf.best_score_)\n",
        "# print(clf.best_params_)"
      ],
      "metadata": {
        "id": "s_QbhpJ4Gs5g"
      },
      "execution_count": null,
      "outputs": []
    },
    {
      "cell_type": "code",
      "source": [
        "# 使用最佳的參數，再次進行Decision Tree Classifier分析\n",
        "decision_tree = DecisionTreeClassifier(criterion='entropy',max_depth=4,min_samples_leaf=1,min_samples_split=2)\n",
        "decision_tree.fit( X_Train, Y_Train )\n",
        "decision_tree_score_new = cross_val_score(decision_tree,X_Train,Y_Train.values.ravel(),cv=5,scoring='accuracy').mean()\n",
        "print(decision_tree_score_new)"
      ],
      "metadata": {
        "colab": {
          "base_uri": "https://localhost:8080/"
        },
        "id": "4L4ctKLlHWEJ",
        "outputId": "3e92928a-3914-4d17-c87e-3ee226ad5d78"
      },
      "execution_count": 386,
      "outputs": [
        {
          "output_type": "stream",
          "name": "stdout",
          "text": [
            "0.8338836231247253\n"
          ]
        }
      ]
    },
    {
      "cell_type": "code",
      "source": [
        "# 預測測試集的 Survived 結果\n",
        "Test_pred = decision_tree.predict(Test)\n",
        "print( Test_pred )"
      ],
      "metadata": {
        "id": "aiYbZFJ7-Lui"
      },
      "execution_count": null,
      "outputs": []
    },
    {
      "cell_type": "code",
      "source": [
        "# 取得提交檔案\n",
        "submit['Survived'] = Test_pred.astype(int)\n",
        "submit.to_csv( 'Titanic_decisiontree_params.csv', index=False )\n",
        "print( f'預測結果：' )\n",
        "print(submit)"
      ],
      "metadata": {
        "id": "0b8FDdOc2QZy"
      },
      "execution_count": null,
      "outputs": []
    },
    {
      "cell_type": "code",
      "source": [
        "# 將提交檔案存入本機\n",
        "from google.colab import files\n",
        "files.download('Titanic_decisiontree_params.csv')"
      ],
      "metadata": {
        "id": "a1O2BHRu7EYj"
      },
      "execution_count": null,
      "outputs": []
    }
  ]
}