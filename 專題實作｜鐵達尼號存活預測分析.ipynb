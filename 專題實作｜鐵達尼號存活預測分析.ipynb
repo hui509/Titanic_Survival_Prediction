{
  "nbformat": 4,
  "nbformat_minor": 0,
  "metadata": {
    "colab": {
      "provenance": [],
      "authorship_tag": "ABX9TyOXN4FK1/xfZwJvEgQqOJ7a",
      "include_colab_link": true
    },
    "kernelspec": {
      "name": "python3",
      "display_name": "Python 3"
    },
    "language_info": {
      "name": "python"
    }
  },
  "cells": [
    {
      "cell_type": "markdown",
      "metadata": {
        "id": "view-in-github",
        "colab_type": "text"
      },
      "source": [
        "<a href=\"https://colab.research.google.com/github/hui509/Titanic_Survival_Prediction/blob/main/%E5%B0%88%E9%A1%8C%E5%AF%A6%E4%BD%9C%EF%BD%9C%E9%90%B5%E9%81%94%E5%B0%BC%E8%99%9F%E5%AD%98%E6%B4%BB%E9%A0%90%E6%B8%AC%E5%88%86%E6%9E%90.ipynb\" target=\"_parent\"><img src=\"https://colab.research.google.com/assets/colab-badge.svg\" alt=\"Open In Colab\"/></a>"
      ]
    },
    {
      "cell_type": "markdown",
      "source": [
        "# **載入資料**"
      ],
      "metadata": {
        "id": "HhkKXGOnNy2d"
      }
    },
    {
      "cell_type": "code",
      "execution_count": 333,
      "metadata": {
        "id": "FM3oIjAUNsRX"
      },
      "outputs": [],
      "source": [
        "# 載入訓練集、測試集、示範檔資料\n",
        "import pandas as pd\n",
        "train_url = 'https://raw.githubusercontent.com/hui509/Titanic_Survival_Prediction/main/raw_data/train.csv'\n",
        "test_url = 'https://raw.githubusercontent.com/hui509/Titanic_Survival_Prediction/main/raw_data/test.csv'\n",
        "submit_url = 'https://raw.githubusercontent.com/hui509/Titanic_Survival_Prediction/main/raw_data/gender_submission.csv'\n",
        "\n",
        "train = pd.read_csv(train_url)\n",
        "test = pd.read_csv(test_url)\n",
        "submit = pd.read_csv(submit_url)"
      ]
    },
    {
      "cell_type": "markdown",
      "source": [
        "# **認識資料**"
      ],
      "metadata": {
        "id": "L1PzKYelmPgx"
      }
    },
    {
      "cell_type": "markdown",
      "source": [
        "1. 訓練集｜891筆資料，12個欄位，包含Survival，其中，Age、Cabin、Embarked有缺失值。\n",
        "\n",
        "2. 測試集｜418筆資料，11個欄位，缺少Survival，其中，Age、Fare、Cabin有缺失值。"
      ],
      "metadata": {
        "id": "n2qQzVQ1nhtQ"
      }
    },
    {
      "cell_type": "code",
      "source": [
        "# 觀察訓練集\n",
        "train.info()"
      ],
      "metadata": {
        "id": "svVFPXCNmSMA"
      },
      "execution_count": null,
      "outputs": []
    },
    {
      "cell_type": "code",
      "source": [
        "# 觀察測試集\n",
        "test.info()"
      ],
      "metadata": {
        "id": "cMlqK_Vfmwf3"
      },
      "execution_count": null,
      "outputs": []
    },
    {
      "cell_type": "code",
      "source": [
        "# 訓練集缺失值統計\n",
        "train.isnull().sum()"
      ],
      "metadata": {
        "id": "uieHlnVHoFKn"
      },
      "execution_count": null,
      "outputs": []
    },
    {
      "cell_type": "code",
      "source": [
        "# 測試集缺失值統計\n",
        "test.isnull().sum()"
      ],
      "metadata": {
        "id": "nDZ49rUbotho"
      },
      "execution_count": null,
      "outputs": []
    },
    {
      "cell_type": "markdown",
      "source": [
        "# **合併訓練集與測試集**"
      ],
      "metadata": {
        "id": "rRuqY1fuxO6-"
      }
    },
    {
      "cell_type": "code",
      "source": [
        "# 合併訓練集、測試集，方便後續模型分析\n",
        "data = train._append(test)\n",
        "data.reset_index(inplace=True, drop=True)"
      ],
      "metadata": {
        "id": "2lssOwPOxTyk"
      },
      "execution_count": 338,
      "outputs": []
    },
    {
      "cell_type": "markdown",
      "source": [
        "# **資料探索與分析（EDA）**"
      ],
      "metadata": {
        "id": "TN6Kdq9piZWT"
      }
    },
    {
      "cell_type": "markdown",
      "source": [
        "1. 罹難者中，多屬於低票價的乘客。\n",
        "2. Age 中，15歲以下的少年存活機率較高。\n",
        "3. Sex 中，女性乘客的存活機會高於男性。\n",
        "4. Pclass 中，一等艙的乘客有較高的存活機會。\n",
        "5. Embarked 中，從 Cherbourg 登船者的存活機會較高。"
      ],
      "metadata": {
        "id": "ehgbpIFCieUE"
      }
    },
    {
      "cell_type": "code",
      "source": [
        "# 使用 Pearson 係數計算相關性\n",
        "cor = data.corr()\n",
        "\n",
        "# 使用seaborn和matplotlib，視覺化呈現相關性\n",
        "import seaborn as sns\n",
        "import matplotlib.pyplot as plt\n",
        "plt.figure(figsize=(10,8))\n",
        "sns.heatmap(cor,annot=True,linewidth=0.5,cmap='coolwarm')\n",
        "plt.title('Correlation Matrix of Titanic')\n",
        "plt.show()"
      ],
      "metadata": {
        "id": "OfExjfr-ilG5"
      },
      "execution_count": null,
      "outputs": []
    },
    {
      "cell_type": "code",
      "source": [
        "# 定義distribution函數，以KDE圖觀察欄位與Survived之間的關係\n",
        "\n",
        "def distribution(data,var,target,**kwargs):\n",
        "  # 設定row和col參數\n",
        "  row = kwargs.get('row',None)\n",
        "  col = kwargs.get('col',None)\n",
        "\n",
        "  # 使用seaborn函數製圖\n",
        "  facet = sns.FacetGrid(data,row=row,col=col,hue=target,aspect=3)\n",
        "  facet.map(sns.kdeplot,var,fill=True)\n",
        "  facet.set(xlim=(0,data[var].max()))\n",
        "  facet.add_legend()\n",
        "\n",
        "# 觀察Fare和Survived的關係\n",
        "distribution(data,var='Fare',target='Survived')\n",
        "plt.show()\n",
        "\n",
        "# 觀察Age和Survived的關係\n",
        "distribution(data,var='Age',target='Survived')\n",
        "plt.show()"
      ],
      "metadata": {
        "id": "uwGz4IpfiwxR"
      },
      "execution_count": null,
      "outputs": []
    },
    {
      "cell_type": "code",
      "source": [
        "# 定義categories函數，以長條圖觀察欄位與Survived之間的關係\n",
        "\n",
        "def categories(data,cat,target,**kwargs):\n",
        "  # 設定row和col參數\n",
        "  row = kwargs.get('row',None)\n",
        "  col = kwargs.get('col',None)\n",
        "\n",
        "  # 使用seaborn函數製圖\n",
        "  facet = sns.FacetGrid(data,row=row,col=col,height=4)\n",
        "  facet.map(sns.barplot,cat,target,color='lightblue')\n",
        "  facet.add_legend()\n",
        "\n",
        "# 觀察Sex和Survived的關係\n",
        "categories(data,cat='Sex',target='Survived')\n",
        "plt.show()\n",
        "\n",
        "# 觀察Pclass和Survived的關係\n",
        "categories(data,cat='Pclass',target='Survived')\n",
        "plt.show()\n",
        "\n",
        "# 觀察Embarked和Survived的關係\n",
        "categories(data,cat='Embarked',target='Survived')\n",
        "plt.show()"
      ],
      "metadata": {
        "id": "7n5TRQy4i-uq"
      },
      "execution_count": null,
      "outputs": []
    },
    {
      "cell_type": "markdown",
      "source": [
        "# **資料清理與型態轉換**"
      ],
      "metadata": {
        "id": "hWzRsMc_yUzG"
      }
    },
    {
      "cell_type": "markdown",
      "source": [
        "1. 缺失值｜Age、Fare 以平均數填補\n",
        "\n",
        "2. 型態轉換｜Sex、Embarked\n",
        "\n",
        "\n",
        "\n",
        "\n",
        "\n"
      ],
      "metadata": {
        "id": "DBcw2Jn5BLrR"
      }
    },
    {
      "cell_type": "code",
      "source": [
        "# Age 和 fare 為數值型態，以平均數填補\n",
        "data['Age'].fillna(data['Age'].mean(),inplace=True)\n",
        "data['Fare'].fillna(data['Fare'].mean(),inplace=True)"
      ],
      "metadata": {
        "id": "w86tc8mV-6rR"
      },
      "execution_count": 342,
      "outputs": []
    },
    {
      "cell_type": "code",
      "source": [
        "# 使用 OneHotEncoder 轉換 Embarked 為數值型態\n",
        "data = pd.get_dummies(data,columns=['Embarked'],dtype=int)"
      ],
      "metadata": {
        "id": "xDV0FhEjBAcR"
      },
      "execution_count": 343,
      "outputs": []
    },
    {
      "cell_type": "code",
      "source": [
        "# 將 Sex 轉換為數值型態\n",
        "data['Sex'] = data['Sex'].replace({'male':1,'female':0})"
      ],
      "metadata": {
        "id": "AJ8Sv5QnyZeo"
      },
      "execution_count": 344,
      "outputs": []
    },
    {
      "cell_type": "markdown",
      "source": [
        "# **特徵工程**"
      ],
      "metadata": {
        "id": "k_QAPXp6pORv"
      }
    },
    {
      "cell_type": "markdown",
      "source": [
        "1. 船上親屬人數的多寡，是否會影響生存機會？ **親屬人數2-4人存活機率高。**\n",
        "\n",
        "\n",
        "2. 乘客頭銜隱含社會地位，是否會影響生存機會？ **具有女性頭銜的乘客，存活率較高。**"
      ],
      "metadata": {
        "id": "7q4jaq9CpUMX"
      }
    },
    {
      "cell_type": "code",
      "source": [
        "#新增FamilySize欄位統整乘客在船上的親屬人數\n",
        "data['FamilySize'] = data['SibSp']+data['Parch']+1\n",
        "\n",
        "#使用distribution函數，以KDE圖觀察與Survived之間的關係\n",
        "distribution(data,var='FamilySize',target='Survived')\n",
        "plt.show()\n",
        "\n",
        "# 定義family函數，將親屬人數進行分類\n",
        "def family(size):\n",
        "  if size == 1:\n",
        "    return 'Single'\n",
        "  elif 2<=size<=4:\n",
        "    return 'Small'\n",
        "  else:\n",
        "    return 'Large'\n",
        "\n",
        "# 新增Family_Type說明所屬分類：單身、小家庭、大家庭\n",
        "data['Family_Type'] = data['FamilySize'].map(family)\n",
        "\n",
        "# 使用OneHotEncoder轉換類別欄位並join數據\n",
        "Family_ohe = pd.get_dummies(data['Family_Type'], prefix='Family_')\n",
        "data = data.join(Family_ohe)"
      ],
      "metadata": {
        "id": "IZGQM5eCpSHs"
      },
      "execution_count": null,
      "outputs": []
    },
    {
      "cell_type": "code",
      "source": [
        "# 定義extraction函數，抽取乘客頭銜\n",
        "def extraction(name):\n",
        "  title = name.split(',')[1].split('.')[0].strip()\n",
        "  return title\n",
        "\n",
        "# 新增Raw Title欄位放置抽取出的乘客頭銜\n",
        "data['Raw Title'] = data['Name'].map(extraction)\n",
        "\n",
        "# 觀察Name中頭銜的種類\n",
        "title_set = set()\n",
        "for name in data['Name']:\n",
        "  title_set.add(extraction(name))\n",
        "\n",
        "# 製作title對應的dictionary\n",
        "title_dict = {\n",
        "'Col':      'Officer',\n",
        "'Major':     'Officer',\n",
        "'Capt':      'Officer',\n",
        "'Jonkheer':    'Royalty',\n",
        "'Don':      'Royalty',\n",
        "'Dona':      'Royalty',\n",
        "'Sir':      'Royalty',\n",
        "'the Countess': 'Royalty',\n",
        "'Lady':      'Royalty',\n",
        "'Dr':       'Royalty',\n",
        "'Rev':      'Royalty',\n",
        "'Mr':       'Mr',\n",
        "'Ms':       'Ms',\n",
        "'Miss':      'Miss',\n",
        "'Mlle':      'Miss',\n",
        "'Mrs':       'Mrs',\n",
        "'Mme':       'Mrs',\n",
        "'Master':     'Master'\n",
        "}\n",
        "\n",
        "# 新增Title欄位放置經轉換的頭銜\n",
        "data['Title'] = data['Raw Title'].map(title_dict)\n",
        "\n",
        "# 使用categories函數，以長條圖觀察Title與Survived的關係\n",
        "categories(data,cat='Title',target='Survived')\n",
        "plt.show()\n",
        "\n",
        "# 使用OneHotEncoder轉換類別欄位並join數據\n",
        "Title_ohe = pd.get_dummies(data['Title'], prefix='Title_')\n",
        "data = data.join(Title_ohe)"
      ],
      "metadata": {
        "id": "fl9_k0upz5kZ"
      },
      "execution_count": null,
      "outputs": []
    },
    {
      "cell_type": "code",
      "source": [
        "# 刪除模型無法運算的欄位\n",
        "data.drop(columns=['PassengerId','Name','Ticket','Cabin','Family_Type','Raw Title','Title'],axis=1,inplace=True)"
      ],
      "metadata": {
        "id": "9doQJDL20b3r"
      },
      "execution_count": 347,
      "outputs": []
    },
    {
      "cell_type": "markdown",
      "source": [
        "# **模型分析**"
      ],
      "metadata": {
        "id": "prDwEkyWxIft"
      }
    },
    {
      "cell_type": "code",
      "source": [
        "# 載入模型\n",
        "from sklearn.linear_model import LogisticRegression\n",
        "from sklearn.model_selection import cross_val_score\n",
        "\n",
        "# 產生訓練集和測試集\n",
        "Train = data[ pd.notnull(data.Survived) ].copy()\n",
        "Test = data[ pd.isnull(data.Survived) ].copy()"
      ],
      "metadata": {
        "id": "5BzVHPinxMnj"
      },
      "execution_count": 348,
      "outputs": []
    },
    {
      "cell_type": "code",
      "source": [
        "# X_Train 為訓練集的特徵欄位\n",
        "# Y_Train 為訓練集的標籤欄位\n",
        "X_Train = Train.drop( ['Survived'], axis=1 )\n",
        "Y_Train = Train.Survived\n",
        "\n",
        "# 測試集刪除 Survived 欄位\n",
        "Test.drop( ['Survived'], axis=1, inplace=True )"
      ],
      "metadata": {
        "id": "GiuZJw1oyG2C"
      },
      "execution_count": 349,
      "outputs": []
    },
    {
      "cell_type": "code",
      "source": [
        "# 使用Logistic Regression分析\n",
        "model = LogisticRegression(random_state=0,max_iter=3000)\n",
        "model.fit( X_Train, Y_Train )\n",
        "scores = cross_val_score(model,X_Train,Y_Train.values.ravel(),cv=5,scoring='accuracy').mean()\n",
        "print(scores)"
      ],
      "metadata": {
        "id": "6ASZaI7_0FcG",
        "colab": {
          "base_uri": "https://localhost:8080/"
        },
        "outputId": "9844093b-daab-4b62-f048-9e0dc5792579"
      },
      "execution_count": 350,
      "outputs": [
        {
          "output_type": "stream",
          "name": "stdout",
          "text": [
            "0.8237838177138912\n"
          ]
        }
      ]
    },
    {
      "cell_type": "markdown",
      "source": [
        "# **模型優化**"
      ],
      "metadata": {
        "id": "ESgsWwY5b_uA"
      }
    },
    {
      "cell_type": "code",
      "source": [
        "# 參數調整\n",
        "from sklearn.model_selection import GridSearchCV\n",
        "clf = GridSearchCV(model,\n",
        "    {'C': [0.01, 0.1, 1, 10],'solver': ['liblinear','lbfgs']}, cv=5)\n",
        "clf.fit( X_Train, Y_Train )\n",
        "\n",
        "# 取得調整後的各種結果\n",
        "df = pd.DataFrame(clf.cv_results_)\n",
        "df[['param_C','param_solver','mean_test_score']].sort_values(by='mean_test_score',ascending = False)\n",
        "# print(clf.best_score_)\n",
        "# print(clf.best_params_)"
      ],
      "metadata": {
        "colab": {
          "base_uri": "https://localhost:8080/",
          "height": 300
        },
        "id": "aqgA-MqhX5Yy",
        "outputId": "ff417043-b6e4-4765-973d-ec12f6de6607"
      },
      "execution_count": 351,
      "outputs": [
        {
          "output_type": "execute_result",
          "data": {
            "text/plain": [
              "  param_C param_solver  mean_test_score\n",
              "6      10    liblinear         0.826018\n",
              "4       1    liblinear         0.824901\n",
              "7      10        lbfgs         0.824901\n",
              "5       1        lbfgs         0.823784\n",
              "3     0.1        lbfgs         0.818178\n",
              "2     0.1    liblinear         0.813665\n",
              "1    0.01        lbfgs         0.782336\n",
              "0    0.01    liblinear         0.750932"
            ],
            "text/html": [
              "\n",
              "  <div id=\"df-3f42dddb-ba6a-4e29-9ec4-0400a9ce5b43\" class=\"colab-df-container\">\n",
              "    <div>\n",
              "<style scoped>\n",
              "    .dataframe tbody tr th:only-of-type {\n",
              "        vertical-align: middle;\n",
              "    }\n",
              "\n",
              "    .dataframe tbody tr th {\n",
              "        vertical-align: top;\n",
              "    }\n",
              "\n",
              "    .dataframe thead th {\n",
              "        text-align: right;\n",
              "    }\n",
              "</style>\n",
              "<table border=\"1\" class=\"dataframe\">\n",
              "  <thead>\n",
              "    <tr style=\"text-align: right;\">\n",
              "      <th></th>\n",
              "      <th>param_C</th>\n",
              "      <th>param_solver</th>\n",
              "      <th>mean_test_score</th>\n",
              "    </tr>\n",
              "  </thead>\n",
              "  <tbody>\n",
              "    <tr>\n",
              "      <th>6</th>\n",
              "      <td>10</td>\n",
              "      <td>liblinear</td>\n",
              "      <td>0.826018</td>\n",
              "    </tr>\n",
              "    <tr>\n",
              "      <th>4</th>\n",
              "      <td>1</td>\n",
              "      <td>liblinear</td>\n",
              "      <td>0.824901</td>\n",
              "    </tr>\n",
              "    <tr>\n",
              "      <th>7</th>\n",
              "      <td>10</td>\n",
              "      <td>lbfgs</td>\n",
              "      <td>0.824901</td>\n",
              "    </tr>\n",
              "    <tr>\n",
              "      <th>5</th>\n",
              "      <td>1</td>\n",
              "      <td>lbfgs</td>\n",
              "      <td>0.823784</td>\n",
              "    </tr>\n",
              "    <tr>\n",
              "      <th>3</th>\n",
              "      <td>0.1</td>\n",
              "      <td>lbfgs</td>\n",
              "      <td>0.818178</td>\n",
              "    </tr>\n",
              "    <tr>\n",
              "      <th>2</th>\n",
              "      <td>0.1</td>\n",
              "      <td>liblinear</td>\n",
              "      <td>0.813665</td>\n",
              "    </tr>\n",
              "    <tr>\n",
              "      <th>1</th>\n",
              "      <td>0.01</td>\n",
              "      <td>lbfgs</td>\n",
              "      <td>0.782336</td>\n",
              "    </tr>\n",
              "    <tr>\n",
              "      <th>0</th>\n",
              "      <td>0.01</td>\n",
              "      <td>liblinear</td>\n",
              "      <td>0.750932</td>\n",
              "    </tr>\n",
              "  </tbody>\n",
              "</table>\n",
              "</div>\n",
              "    <div class=\"colab-df-buttons\">\n",
              "\n",
              "  <div class=\"colab-df-container\">\n",
              "    <button class=\"colab-df-convert\" onclick=\"convertToInteractive('df-3f42dddb-ba6a-4e29-9ec4-0400a9ce5b43')\"\n",
              "            title=\"Convert this dataframe to an interactive table.\"\n",
              "            style=\"display:none;\">\n",
              "\n",
              "  <svg xmlns=\"http://www.w3.org/2000/svg\" height=\"24px\" viewBox=\"0 -960 960 960\">\n",
              "    <path d=\"M120-120v-720h720v720H120Zm60-500h600v-160H180v160Zm220 220h160v-160H400v160Zm0 220h160v-160H400v160ZM180-400h160v-160H180v160Zm440 0h160v-160H620v160ZM180-180h160v-160H180v160Zm440 0h160v-160H620v160Z\"/>\n",
              "  </svg>\n",
              "    </button>\n",
              "\n",
              "  <style>\n",
              "    .colab-df-container {\n",
              "      display:flex;\n",
              "      gap: 12px;\n",
              "    }\n",
              "\n",
              "    .colab-df-convert {\n",
              "      background-color: #E8F0FE;\n",
              "      border: none;\n",
              "      border-radius: 50%;\n",
              "      cursor: pointer;\n",
              "      display: none;\n",
              "      fill: #1967D2;\n",
              "      height: 32px;\n",
              "      padding: 0 0 0 0;\n",
              "      width: 32px;\n",
              "    }\n",
              "\n",
              "    .colab-df-convert:hover {\n",
              "      background-color: #E2EBFA;\n",
              "      box-shadow: 0px 1px 2px rgba(60, 64, 67, 0.3), 0px 1px 3px 1px rgba(60, 64, 67, 0.15);\n",
              "      fill: #174EA6;\n",
              "    }\n",
              "\n",
              "    .colab-df-buttons div {\n",
              "      margin-bottom: 4px;\n",
              "    }\n",
              "\n",
              "    [theme=dark] .colab-df-convert {\n",
              "      background-color: #3B4455;\n",
              "      fill: #D2E3FC;\n",
              "    }\n",
              "\n",
              "    [theme=dark] .colab-df-convert:hover {\n",
              "      background-color: #434B5C;\n",
              "      box-shadow: 0px 1px 3px 1px rgba(0, 0, 0, 0.15);\n",
              "      filter: drop-shadow(0px 1px 2px rgba(0, 0, 0, 0.3));\n",
              "      fill: #FFFFFF;\n",
              "    }\n",
              "  </style>\n",
              "\n",
              "    <script>\n",
              "      const buttonEl =\n",
              "        document.querySelector('#df-3f42dddb-ba6a-4e29-9ec4-0400a9ce5b43 button.colab-df-convert');\n",
              "      buttonEl.style.display =\n",
              "        google.colab.kernel.accessAllowed ? 'block' : 'none';\n",
              "\n",
              "      async function convertToInteractive(key) {\n",
              "        const element = document.querySelector('#df-3f42dddb-ba6a-4e29-9ec4-0400a9ce5b43');\n",
              "        const dataTable =\n",
              "          await google.colab.kernel.invokeFunction('convertToInteractive',\n",
              "                                                    [key], {});\n",
              "        if (!dataTable) return;\n",
              "\n",
              "        const docLinkHtml = 'Like what you see? Visit the ' +\n",
              "          '<a target=\"_blank\" href=https://colab.research.google.com/notebooks/data_table.ipynb>data table notebook</a>'\n",
              "          + ' to learn more about interactive tables.';\n",
              "        element.innerHTML = '';\n",
              "        dataTable['output_type'] = 'display_data';\n",
              "        await google.colab.output.renderOutput(dataTable, element);\n",
              "        const docLink = document.createElement('div');\n",
              "        docLink.innerHTML = docLinkHtml;\n",
              "        element.appendChild(docLink);\n",
              "      }\n",
              "    </script>\n",
              "  </div>\n",
              "\n",
              "\n",
              "<div id=\"df-2b7915d3-62fa-445d-b58e-532b2498e858\">\n",
              "  <button class=\"colab-df-quickchart\" onclick=\"quickchart('df-2b7915d3-62fa-445d-b58e-532b2498e858')\"\n",
              "            title=\"Suggest charts\"\n",
              "            style=\"display:none;\">\n",
              "\n",
              "<svg xmlns=\"http://www.w3.org/2000/svg\" height=\"24px\"viewBox=\"0 0 24 24\"\n",
              "     width=\"24px\">\n",
              "    <g>\n",
              "        <path d=\"M19 3H5c-1.1 0-2 .9-2 2v14c0 1.1.9 2 2 2h14c1.1 0 2-.9 2-2V5c0-1.1-.9-2-2-2zM9 17H7v-7h2v7zm4 0h-2V7h2v10zm4 0h-2v-4h2v4z\"/>\n",
              "    </g>\n",
              "</svg>\n",
              "  </button>\n",
              "\n",
              "<style>\n",
              "  .colab-df-quickchart {\n",
              "      --bg-color: #E8F0FE;\n",
              "      --fill-color: #1967D2;\n",
              "      --hover-bg-color: #E2EBFA;\n",
              "      --hover-fill-color: #174EA6;\n",
              "      --disabled-fill-color: #AAA;\n",
              "      --disabled-bg-color: #DDD;\n",
              "  }\n",
              "\n",
              "  [theme=dark] .colab-df-quickchart {\n",
              "      --bg-color: #3B4455;\n",
              "      --fill-color: #D2E3FC;\n",
              "      --hover-bg-color: #434B5C;\n",
              "      --hover-fill-color: #FFFFFF;\n",
              "      --disabled-bg-color: #3B4455;\n",
              "      --disabled-fill-color: #666;\n",
              "  }\n",
              "\n",
              "  .colab-df-quickchart {\n",
              "    background-color: var(--bg-color);\n",
              "    border: none;\n",
              "    border-radius: 50%;\n",
              "    cursor: pointer;\n",
              "    display: none;\n",
              "    fill: var(--fill-color);\n",
              "    height: 32px;\n",
              "    padding: 0;\n",
              "    width: 32px;\n",
              "  }\n",
              "\n",
              "  .colab-df-quickchart:hover {\n",
              "    background-color: var(--hover-bg-color);\n",
              "    box-shadow: 0 1px 2px rgba(60, 64, 67, 0.3), 0 1px 3px 1px rgba(60, 64, 67, 0.15);\n",
              "    fill: var(--button-hover-fill-color);\n",
              "  }\n",
              "\n",
              "  .colab-df-quickchart-complete:disabled,\n",
              "  .colab-df-quickchart-complete:disabled:hover {\n",
              "    background-color: var(--disabled-bg-color);\n",
              "    fill: var(--disabled-fill-color);\n",
              "    box-shadow: none;\n",
              "  }\n",
              "\n",
              "  .colab-df-spinner {\n",
              "    border: 2px solid var(--fill-color);\n",
              "    border-color: transparent;\n",
              "    border-bottom-color: var(--fill-color);\n",
              "    animation:\n",
              "      spin 1s steps(1) infinite;\n",
              "  }\n",
              "\n",
              "  @keyframes spin {\n",
              "    0% {\n",
              "      border-color: transparent;\n",
              "      border-bottom-color: var(--fill-color);\n",
              "      border-left-color: var(--fill-color);\n",
              "    }\n",
              "    20% {\n",
              "      border-color: transparent;\n",
              "      border-left-color: var(--fill-color);\n",
              "      border-top-color: var(--fill-color);\n",
              "    }\n",
              "    30% {\n",
              "      border-color: transparent;\n",
              "      border-left-color: var(--fill-color);\n",
              "      border-top-color: var(--fill-color);\n",
              "      border-right-color: var(--fill-color);\n",
              "    }\n",
              "    40% {\n",
              "      border-color: transparent;\n",
              "      border-right-color: var(--fill-color);\n",
              "      border-top-color: var(--fill-color);\n",
              "    }\n",
              "    60% {\n",
              "      border-color: transparent;\n",
              "      border-right-color: var(--fill-color);\n",
              "    }\n",
              "    80% {\n",
              "      border-color: transparent;\n",
              "      border-right-color: var(--fill-color);\n",
              "      border-bottom-color: var(--fill-color);\n",
              "    }\n",
              "    90% {\n",
              "      border-color: transparent;\n",
              "      border-bottom-color: var(--fill-color);\n",
              "    }\n",
              "  }\n",
              "</style>\n",
              "\n",
              "  <script>\n",
              "    async function quickchart(key) {\n",
              "      const quickchartButtonEl =\n",
              "        document.querySelector('#' + key + ' button');\n",
              "      quickchartButtonEl.disabled = true;  // To prevent multiple clicks.\n",
              "      quickchartButtonEl.classList.add('colab-df-spinner');\n",
              "      try {\n",
              "        const charts = await google.colab.kernel.invokeFunction(\n",
              "            'suggestCharts', [key], {});\n",
              "      } catch (error) {\n",
              "        console.error('Error during call to suggestCharts:', error);\n",
              "      }\n",
              "      quickchartButtonEl.classList.remove('colab-df-spinner');\n",
              "      quickchartButtonEl.classList.add('colab-df-quickchart-complete');\n",
              "    }\n",
              "    (() => {\n",
              "      let quickchartButtonEl =\n",
              "        document.querySelector('#df-2b7915d3-62fa-445d-b58e-532b2498e858 button');\n",
              "      quickchartButtonEl.style.display =\n",
              "        google.colab.kernel.accessAllowed ? 'block' : 'none';\n",
              "    })();\n",
              "  </script>\n",
              "</div>\n",
              "    </div>\n",
              "  </div>\n"
            ]
          },
          "metadata": {},
          "execution_count": 351
        }
      ]
    },
    {
      "cell_type": "code",
      "source": [
        "# 使用最佳的參數，再次進行Logistic Regression分析\n",
        "model = LogisticRegression(C=10,solver='liblinear',random_state=0,max_iter=3000)\n",
        "model.fit( X_Train, Y_Train )\n",
        "scores = cross_val_score(model,X_Train,Y_Train.values.ravel(),cv=5,scoring='accuracy').mean()\n",
        "print(scores)"
      ],
      "metadata": {
        "colab": {
          "base_uri": "https://localhost:8080/"
        },
        "id": "rf6bggtzisJJ",
        "outputId": "9470ccc3-42d7-4df5-aaf9-95d0b694b312"
      },
      "execution_count": 352,
      "outputs": [
        {
          "output_type": "stream",
          "name": "stdout",
          "text": [
            "0.8260184545853996\n"
          ]
        }
      ]
    },
    {
      "cell_type": "code",
      "source": [
        "# 預測測試集的 Survived 結果\n",
        "Test_pred = model.predict(Test)\n",
        "print( Test_pred )"
      ],
      "metadata": {
        "id": "aiYbZFJ7-Lui"
      },
      "execution_count": null,
      "outputs": []
    },
    {
      "cell_type": "code",
      "source": [
        "# 取得提交檔案\n",
        "submit['Survived'] = Test_pred.astype(int)\n",
        "submit.to_csv( 'Titanic_LogisticRegression_params.csv', index=False )\n",
        "print( f'預測結果：' )\n",
        "print(submit)"
      ],
      "metadata": {
        "id": "0b8FDdOc2QZy"
      },
      "execution_count": null,
      "outputs": []
    },
    {
      "cell_type": "code",
      "source": [
        "# 將提交檔案存入本機\n",
        "from google.colab import files\n",
        "files.download('Titanic_LogisticRegression_params.csv')"
      ],
      "metadata": {
        "id": "a1O2BHRu7EYj"
      },
      "execution_count": null,
      "outputs": []
    }
  ]
}