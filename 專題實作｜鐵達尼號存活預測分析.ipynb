{
  "nbformat": 4,
  "nbformat_minor": 0,
  "metadata": {
    "colab": {
      "provenance": [],
      "authorship_tag": "ABX9TyMIszqMaQU84GsSxpdf7+/G",
      "include_colab_link": true
    },
    "kernelspec": {
      "name": "python3",
      "display_name": "Python 3"
    },
    "language_info": {
      "name": "python"
    }
  },
  "cells": [
    {
      "cell_type": "markdown",
      "metadata": {
        "id": "view-in-github",
        "colab_type": "text"
      },
      "source": [
        "<a href=\"https://colab.research.google.com/github/hui509/Titanic_Survival_Prediction/blob/main/%E5%B0%88%E9%A1%8C%E5%AF%A6%E4%BD%9C%EF%BD%9C%E9%90%B5%E9%81%94%E5%B0%BC%E8%99%9F%E5%AD%98%E6%B4%BB%E9%A0%90%E6%B8%AC%E5%88%86%E6%9E%90.ipynb\" target=\"_parent\"><img src=\"https://colab.research.google.com/assets/colab-badge.svg\" alt=\"Open In Colab\"/></a>"
      ]
    },
    {
      "cell_type": "markdown",
      "source": [
        "# **載入資料**"
      ],
      "metadata": {
        "id": "HhkKXGOnNy2d"
      }
    },
    {
      "cell_type": "code",
      "execution_count": 89,
      "metadata": {
        "id": "FM3oIjAUNsRX"
      },
      "outputs": [],
      "source": [
        "# 載入訓練集、測試集、示範檔資料\n",
        "import pandas as pd\n",
        "train_url = 'https://raw.githubusercontent.com/hui509/Titanic_Survival_Prediction/main/raw_data/train.csv'\n",
        "test_url = 'https://raw.githubusercontent.com/hui509/Titanic_Survival_Prediction/main/raw_data/test.csv'\n",
        "submit_url = 'https://raw.githubusercontent.com/hui509/Titanic_Survival_Prediction/main/raw_data/gender_submission.csv'\n",
        "\n",
        "train = pd.read_csv(train_url)\n",
        "test = pd.read_csv(test_url)\n",
        "submit = pd.read_csv(submit_url)"
      ]
    },
    {
      "cell_type": "markdown",
      "source": [
        "# **認識資料**"
      ],
      "metadata": {
        "id": "L1PzKYelmPgx"
      }
    },
    {
      "cell_type": "markdown",
      "source": [
        "1. 訓練集｜891筆資料，12個欄位，包含Survival，其中，Age、Cabin、Embarked有缺失值。\n",
        "\n",
        "2. 測試集｜418筆資料，11個欄位，缺少Survival，其中，Age、Fare、Cabin有缺失值。"
      ],
      "metadata": {
        "id": "n2qQzVQ1nhtQ"
      }
    },
    {
      "cell_type": "code",
      "source": [
        "# 觀察訓練集\n",
        "train.info()"
      ],
      "metadata": {
        "id": "svVFPXCNmSMA"
      },
      "execution_count": null,
      "outputs": []
    },
    {
      "cell_type": "code",
      "source": [
        "# 觀察測試集\n",
        "test.info()"
      ],
      "metadata": {
        "id": "cMlqK_Vfmwf3"
      },
      "execution_count": null,
      "outputs": []
    },
    {
      "cell_type": "code",
      "source": [
        "# 訓練集缺失值統計\n",
        "train.isnull().sum()"
      ],
      "metadata": {
        "id": "uieHlnVHoFKn"
      },
      "execution_count": null,
      "outputs": []
    },
    {
      "cell_type": "code",
      "source": [
        "# 測試集缺失值統計\n",
        "test.isnull().sum()"
      ],
      "metadata": {
        "id": "nDZ49rUbotho"
      },
      "execution_count": null,
      "outputs": []
    },
    {
      "cell_type": "markdown",
      "source": [
        "# **合併訓練集與測試集**"
      ],
      "metadata": {
        "id": "rRuqY1fuxO6-"
      }
    },
    {
      "cell_type": "code",
      "source": [
        "# 合併訓練集、測試集，方便後續模型分析\n",
        "data = train._append(test)\n",
        "data.reset_index(inplace=True, drop=True)"
      ],
      "metadata": {
        "id": "2lssOwPOxTyk"
      },
      "execution_count": 94,
      "outputs": []
    },
    {
      "cell_type": "markdown",
      "source": [
        "# **資料探索與分析（EDA）**"
      ],
      "metadata": {
        "id": "TN6Kdq9piZWT"
      }
    },
    {
      "cell_type": "markdown",
      "source": [
        "1. 罹難者中，多屬於低票價的乘客。\n",
        "2. Age 中，15歲以下的少年存活機率較高。\n",
        "3. Sex 中，女性乘客的存活機會高於男性。\n",
        "4. Pclass 中，一等艙的乘客有較高的存活機會。\n",
        "5. Embarked 中，從 Cherbourg 登船者的存活機會較高。"
      ],
      "metadata": {
        "id": "ehgbpIFCieUE"
      }
    },
    {
      "cell_type": "code",
      "source": [
        "# 使用 Pearson 係數計算相關性\n",
        "cor = data.corr()\n",
        "\n",
        "# 使用seaborn和matplotlib，視覺化呈現相關性\n",
        "import seaborn as sns\n",
        "import matplotlib.pyplot as plt\n",
        "plt.figure(figsize=(10,8))\n",
        "sns.heatmap(cor,annot=True,linewidth=0.5,cmap='coolwarm')\n",
        "plt.title('Correlation Matrix of Titanic')\n",
        "plt.show()"
      ],
      "metadata": {
        "id": "OfExjfr-ilG5"
      },
      "execution_count": null,
      "outputs": []
    },
    {
      "cell_type": "code",
      "source": [
        "# 定義distribution函數，以KDE圖觀察欄位與Survived之間的關係\n",
        "\n",
        "def distribution(data,var,target,**kwargs):\n",
        "  # 設定row和col參數\n",
        "  row = kwargs.get('row',None)\n",
        "  col = kwargs.get('col',None)\n",
        "\n",
        "  # 使用seaborn函數製圖\n",
        "  facet = sns.FacetGrid(data,row=row,col=col,hue=target,aspect=3)\n",
        "  facet.map(sns.kdeplot,var,fill=True)\n",
        "  facet.set(xlim=(0,data[var].max()))\n",
        "  facet.add_legend()\n",
        "\n",
        "# 觀察Fare和Survived的關係\n",
        "distribution(data,var='Fare',target='Survived')\n",
        "plt.show()\n",
        "\n",
        "# 觀察Age和Survived的關係\n",
        "distribution(data,var='Age',target='Survived')\n",
        "plt.show()"
      ],
      "metadata": {
        "id": "uwGz4IpfiwxR"
      },
      "execution_count": null,
      "outputs": []
    },
    {
      "cell_type": "code",
      "source": [
        "# 定義categories函數，以長條圖觀察欄位與Survived之間的關係\n",
        "\n",
        "def categories(data,cat,target,**kwargs):\n",
        "  # 設定row和col參數\n",
        "  row = kwargs.get('row',None)\n",
        "  col = kwargs.get('col',None)\n",
        "\n",
        "  # 使用seaborn函數製圖\n",
        "  facet = sns.FacetGrid(data,row=row,col=col,height=4)\n",
        "  facet.map(sns.barplot,cat,target,color='lightblue')\n",
        "  facet.add_legend()\n",
        "\n",
        "# 觀察Sex和Survived的關係\n",
        "categories(data,cat='Sex',target='Survived')\n",
        "plt.show()\n",
        "\n",
        "# 觀察Pclass和Survived的關係\n",
        "categories(data,cat='Pclass',target='Survived')\n",
        "plt.show()\n",
        "\n",
        "# 觀察Embarked和Survived的關係\n",
        "categories(data,cat='Embarked',target='Survived')\n",
        "plt.show()"
      ],
      "metadata": {
        "id": "7n5TRQy4i-uq"
      },
      "execution_count": null,
      "outputs": []
    },
    {
      "cell_type": "markdown",
      "source": [
        "# **資料清理與型態轉換**"
      ],
      "metadata": {
        "id": "hWzRsMc_yUzG"
      }
    },
    {
      "cell_type": "markdown",
      "source": [
        "1. 缺失值｜Age、Fare 以平均數填補\n",
        "\n",
        "2. 型態轉換｜Sex、Embarked\n",
        "\n",
        "\n",
        "\n",
        "\n",
        "\n"
      ],
      "metadata": {
        "id": "DBcw2Jn5BLrR"
      }
    },
    {
      "cell_type": "code",
      "source": [
        "# Age 和 fare 為數值型態，以平均數填補\n",
        "data['Age'].fillna(data['Age'].mean(),inplace=True)\n",
        "data['Fare'].fillna(data['Fare'].mean(),inplace=True)"
      ],
      "metadata": {
        "id": "w86tc8mV-6rR"
      },
      "execution_count": 98,
      "outputs": []
    },
    {
      "cell_type": "code",
      "source": [
        "# 使用 OneHotEncoder 轉換 Embarked 為數值型態\n",
        "data = pd.get_dummies(data,columns=['Embarked'],dtype=int)"
      ],
      "metadata": {
        "id": "xDV0FhEjBAcR"
      },
      "execution_count": 99,
      "outputs": []
    },
    {
      "cell_type": "code",
      "source": [
        "# 將 Sex 轉換為數值型態\n",
        "data['Sex'] = data['Sex'].replace({'male':1,'female':0})"
      ],
      "metadata": {
        "id": "AJ8Sv5QnyZeo"
      },
      "execution_count": 100,
      "outputs": []
    },
    {
      "cell_type": "markdown",
      "source": [
        "# **特徵工程**"
      ],
      "metadata": {
        "id": "k_QAPXp6pORv"
      }
    },
    {
      "cell_type": "markdown",
      "source": [
        "1. 船上親屬人數的多寡，是否會影響生存機會？ **親屬人數2-4人存活機率高。**\n",
        "\n",
        "\n",
        "2. 乘客頭銜隱含社會地位，是否會影響生存機會？ **具有女性頭銜的乘客，存活率較高。**"
      ],
      "metadata": {
        "id": "7q4jaq9CpUMX"
      }
    },
    {
      "cell_type": "code",
      "source": [
        "#新增FamilySize欄位統整乘客在船上的親屬人數\n",
        "data['FamilySize'] = data['SibSp']+data['Parch']+1\n",
        "\n",
        "#使用distribution函數，以KDE圖觀察與Survived之間的關係\n",
        "distribution(data,var='FamilySize',target='Survived')\n",
        "plt.show()\n",
        "\n",
        "# 定義family函數，將親屬人數進行分類\n",
        "def family(size):\n",
        "  if size == 1:\n",
        "    return 'Single'\n",
        "  elif 2<=size<=4:\n",
        "    return 'Small'\n",
        "  else:\n",
        "    return 'Large'\n",
        "\n",
        "# 新增Family_Type說明所屬分類：單身、小家庭、大家庭\n",
        "data['Family_Type'] = data['FamilySize'].map(family)\n",
        "\n",
        "# 使用OneHotEncoder轉換類別欄位並join數據\n",
        "Family_ohe = pd.get_dummies(data['Family_Type'], prefix='Family_')\n",
        "data = data.join(Family_ohe)"
      ],
      "metadata": {
        "colab": {
          "base_uri": "https://localhost:8080/",
          "height": 307
        },
        "id": "IZGQM5eCpSHs",
        "outputId": "caa0e069-076f-4272-e41a-d221f31540b3"
      },
      "execution_count": 101,
      "outputs": [
        {
          "output_type": "display_data",
          "data": {
            "text/plain": [
              "<Figure size 972.111x300 with 1 Axes>"
            ],
            "image/png": "[encoded data removed]"
          },
          "metadata": {}
        }
      ]
    },
    {
      "cell_type": "code",
      "source": [
        "# 定義extraction函數，抽取乘客頭銜\n",
        "def extraction(name):\n",
        "  title = name.split(',')[1].split('.')[0].strip()\n",
        "  return title\n",
        "\n",
        "# 新增Raw Title欄位放置抽取出的乘客頭銜\n",
        "data['Raw Title'] = data['Name'].map(extraction)\n",
        "\n",
        "# 觀察Name中頭銜的種類\n",
        "title_set = set()\n",
        "for name in data['Name']:\n",
        "  title_set.add(extraction(name))\n",
        "\n",
        "# 製作title對應的dictionary\n",
        "title_dict = {\n",
        "'Col':      'Officer',\n",
        "'Major':     'Officer',\n",
        "'Capt':      'Officer',\n",
        "'Jonkheer':    'Royalty',\n",
        "'Don':      'Royalty',\n",
        "'Dona':      'Royalty',\n",
        "'Sir':      'Royalty',\n",
        "'the Countess': 'Royalty',\n",
        "'Lady':      'Royalty',\n",
        "'Dr':       'Royalty',\n",
        "'Rev':      'Royalty',\n",
        "'Mr':       'Mr',\n",
        "'Ms':       'Ms',\n",
        "'Miss':      'Miss',\n",
        "'Mlle':      'Miss',\n",
        "'Mrs':       'Mrs',\n",
        "'Mme':       'Mrs',\n",
        "'Master':     'Master'\n",
        "}\n",
        "\n",
        "# 新增Title欄位放置經轉換的頭銜\n",
        "data['Title'] = data['Raw Title'].map(title_dict)\n",
        "\n",
        "# 使用categories函數，以長條圖觀察Title與Survived的關係\n",
        "categories(data,cat='Title',target='Survived')\n",
        "plt.show()\n",
        "\n",
        "# 使用OneHotEncoder轉換類別欄位並join數據\n",
        "Title_ohe = pd.get_dummies(data['Title'], prefix='Title_')\n",
        "data = data.join(Title_ohe)"
      ],
      "metadata": {
        "colab": {
          "base_uri": "https://localhost:8080/",
          "height": 496
        },
        "id": "fl9_k0upz5kZ",
        "outputId": "7ec8a69c-288a-491a-9dc3-53ae13fedcad"
      },
      "execution_count": 102,
      "outputs": [
        {
          "output_type": "stream",
          "name": "stderr",
          "text": [
            "/usr/local/lib/python3.10/dist-packages/seaborn/axisgrid.py:712: UserWarning: Using the barplot function without specifying `order` is likely to produce an incorrect plot.\n",
            "  warnings.warn(warning)\n",
            "/usr/local/lib/python3.10/dist-packages/seaborn/algorithms.py:98: RuntimeWarning: Mean of empty slice\n",
            "  boot_dist.append(f(*sample, **func_kwargs))\n"
          ]
        },
        {
          "output_type": "display_data",
          "data": {
            "text/plain": [
              "<Figure size 411.111x400 with 1 Axes>"
            ],
            "image/png": "[encoded data removed]"
          },
          "metadata": {}
        }
      ]
    },
    {
      "cell_type": "code",
      "source": [
        "# 刪除模型無法運算的欄位\n",
        "data.drop(columns=['PassengerId','Name','Ticket','Cabin','Family_Type','Raw Title','Title'],axis=1,inplace=True)"
      ],
      "metadata": {
        "id": "9doQJDL20b3r"
      },
      "execution_count": 103,
      "outputs": []
    },
    {
      "cell_type": "markdown",
      "source": [
        "# **模型分析**"
      ],
      "metadata": {
        "id": "prDwEkyWxIft"
      }
    },
    {
      "cell_type": "code",
      "source": [
        "# 載入模型\n",
        "from sklearn.linear_model import LogisticRegression\n",
        "from sklearn.model_selection import cross_val_score\n",
        "\n",
        "# 產生訓練集和測試集\n",
        "Train = data[ pd.notnull(data.Survived) ].copy()\n",
        "Test = data[ pd.isnull(data.Survived) ].copy()"
      ],
      "metadata": {
        "id": "5BzVHPinxMnj"
      },
      "execution_count": 104,
      "outputs": []
    },
    {
      "cell_type": "code",
      "source": [
        "# X_Train 為訓練集的特徵欄位\n",
        "# Y_Train 為訓練集的標籤欄位\n",
        "X_Train = Train.drop( ['Survived'], axis=1 )\n",
        "Y_Train = Train.Survived\n",
        "\n",
        "# 測試集刪除 Survived 欄位\n",
        "Test.drop( ['Survived'], axis=1, inplace=True )"
      ],
      "metadata": {
        "id": "GiuZJw1oyG2C"
      },
      "execution_count": 105,
      "outputs": []
    },
    {
      "cell_type": "code",
      "source": [
        "# 使用Logistic Regression分析\n",
        "model = LogisticRegression(random_state=0,max_iter=3000)\n",
        "model.fit( X_Train, Y_Train )\n",
        "scores = cross_val_score(model,X_Train,Y_Train.values.ravel(),cv=5,scoring='accuracy').mean()\n",
        "print(scores)"
      ],
      "metadata": {
        "id": "6ASZaI7_0FcG",
        "colab": {
          "base_uri": "https://localhost:8080/"
        },
        "outputId": "696b47dd-3325-48cc-d5a2-d5341eff3761"
      },
      "execution_count": 106,
      "outputs": [
        {
          "output_type": "stream",
          "name": "stdout",
          "text": [
            "0.8237838177138912\n"
          ]
        }
      ]
    },
    {
      "cell_type": "code",
      "source": [
        "# 預測測試集的 Survived 結果\n",
        "Test_pred = model.predict(Test)\n",
        "print( Test_pred )"
      ],
      "metadata": {
        "id": "aiYbZFJ7-Lui"
      },
      "execution_count": null,
      "outputs": []
    },
    {
      "cell_type": "code",
      "source": [
        "# 取得提交檔案\n",
        "submit['Survived'] = Test_pred.astype(int)\n",
        "submit.to_csv( 'Titanic_LogisticRegression_new.csv', index=False )\n",
        "print( f'預測結果：' )\n",
        "print(submit)"
      ],
      "metadata": {
        "id": "0b8FDdOc2QZy"
      },
      "execution_count": null,
      "outputs": []
    },
    {
      "cell_type": "code",
      "source": [
        "# 將提交檔案存入本機\n",
        "from google.colab import files\n",
        "files.download('Titanic_LogisticRegression_new.csv')"
      ],
      "metadata": {
        "id": "a1O2BHRu7EYj"
      },
      "execution_count": null,
      "outputs": []
    }
  ]
}