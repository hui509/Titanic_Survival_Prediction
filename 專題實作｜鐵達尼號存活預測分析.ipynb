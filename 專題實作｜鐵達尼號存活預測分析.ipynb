{
  "nbformat": 4,
  "nbformat_minor": 0,
  "metadata": {
    "colab": {
      "provenance": [],
      "authorship_tag": "ABX9TyOhAy/0ITpBPWenpkihOpDE",
      "include_colab_link": true
    },
    "kernelspec": {
      "name": "python3",
      "display_name": "Python 3"
    },
    "language_info": {
      "name": "python"
    }
  },
  "cells": [
    {
      "cell_type": "markdown",
      "metadata": {
        "id": "view-in-github",
        "colab_type": "text"
      },
      "source": [
        "<a href=\"https://colab.research.google.com/github/hui509/Titanic_Survival_Prediction/blob/main/%E5%B0%88%E9%A1%8C%E5%AF%A6%E4%BD%9C%EF%BD%9C%E9%90%B5%E9%81%94%E5%B0%BC%E8%99%9F%E5%AD%98%E6%B4%BB%E9%A0%90%E6%B8%AC%E5%88%86%E6%9E%90.ipynb\" target=\"_parent\"><img src=\"https://colab.research.google.com/assets/colab-badge.svg\" alt=\"Open In Colab\"/></a>"
      ]
    },
    {
      "cell_type": "markdown",
      "source": [
        "# **載入資料**"
      ],
      "metadata": {
        "id": "HhkKXGOnNy2d"
      }
    },
    {
      "cell_type": "code",
      "execution_count": null,
      "metadata": {
        "id": "FM3oIjAUNsRX"
      },
      "outputs": [],
      "source": [
        "# 載入訓練集、測試集、示範檔資料\n",
        "import pandas as pd\n",
        "train_url = 'https://raw.githubusercontent.com/hui509/Titanic_Survival_Prediction/main/raw_data/train.csv'\n",
        "test_url = 'https://raw.githubusercontent.com/hui509/Titanic_Survival_Prediction/main/raw_data/test.csv'\n",
        "submit_url = 'https://raw.githubusercontent.com/hui509/Titanic_Survival_Prediction/main/raw_data/gender_submission.csv'\n",
        "\n",
        "train = pd.read_csv(train_url)\n",
        "test = pd.read_csv(test_url)\n",
        "submit = pd.read_csv(submit_url)"
      ]
    },
    {
      "cell_type": "markdown",
      "source": [
        "# **認識資料**"
      ],
      "metadata": {
        "id": "L1PzKYelmPgx"
      }
    },
    {
      "cell_type": "markdown",
      "source": [
        "1. 訓練集｜891筆資料，12個欄位，包含Survival，其中，Age、Cabin、Embarked有缺失值。\n",
        "\n",
        "2. 測試集｜418筆資料，11個欄位，缺少Survival，其中，Age、Fare、Cabin有缺失值。"
      ],
      "metadata": {
        "id": "n2qQzVQ1nhtQ"
      }
    },
    {
      "cell_type": "code",
      "source": [
        "# 觀察訓練集\n",
        "train.info()"
      ],
      "metadata": {
        "id": "svVFPXCNmSMA"
      },
      "execution_count": null,
      "outputs": []
    },
    {
      "cell_type": "code",
      "source": [
        "# 觀察測試集\n",
        "test.info()"
      ],
      "metadata": {
        "id": "cMlqK_Vfmwf3"
      },
      "execution_count": null,
      "outputs": []
    },
    {
      "cell_type": "code",
      "source": [
        "# 訓練集缺失值統計\n",
        "train.isnull().sum()"
      ],
      "metadata": {
        "id": "uieHlnVHoFKn"
      },
      "execution_count": null,
      "outputs": []
    },
    {
      "cell_type": "code",
      "source": [
        "# 測試集缺失值統計\n",
        "test.isnull().sum()"
      ],
      "metadata": {
        "id": "nDZ49rUbotho"
      },
      "execution_count": null,
      "outputs": []
    },
    {
      "cell_type": "markdown",
      "source": [
        "# **合併訓練集與測試集**"
      ],
      "metadata": {
        "id": "rRuqY1fuxO6-"
      }
    },
    {
      "cell_type": "code",
      "source": [
        "# 合併訓練集、測試集，方便後續模型分析\n",
        "data = train._append(test)\n",
        "data.reset_index(inplace=True, drop=True)"
      ],
      "metadata": {
        "id": "2lssOwPOxTyk"
      },
      "execution_count": null,
      "outputs": []
    },
    {
      "cell_type": "markdown",
      "source": [
        "# **資料清理與型態轉換**"
      ],
      "metadata": {
        "id": "hWzRsMc_yUzG"
      }
    },
    {
      "cell_type": "markdown",
      "source": [
        "1. 缺失值｜Age、Fare 以平均數填補\n",
        "\n",
        "2. 型態轉換｜Sex、Embarked\n",
        "\n",
        "\n",
        "\n",
        "\n",
        "\n"
      ],
      "metadata": {
        "id": "DBcw2Jn5BLrR"
      }
    },
    {
      "cell_type": "code",
      "source": [
        "# Age 和 fare 為數值型態，以平均數填補\n",
        "data['Age'].fillna(data['Age'].mean(),inplace=True)\n",
        "data['Fare'].fillna(data['Fare'].mean(),inplace=True)"
      ],
      "metadata": {
        "id": "w86tc8mV-6rR"
      },
      "execution_count": null,
      "outputs": []
    },
    {
      "cell_type": "code",
      "source": [
        "# 使用 OneHotEncoder 轉換 Embarked 為數值型態\n",
        "data = pd.get_dummies(data,columns=['Embarked'],dtype=int)"
      ],
      "metadata": {
        "id": "xDV0FhEjBAcR"
      },
      "execution_count": null,
      "outputs": []
    },
    {
      "cell_type": "code",
      "source": [
        "# 將 Sex 轉換為數值型態\n",
        "data['Sex'] = data['Sex'].replace({'male':1,'female':0})"
      ],
      "metadata": {
        "id": "AJ8Sv5QnyZeo"
      },
      "execution_count": null,
      "outputs": []
    },
    {
      "cell_type": "code",
      "source": [
        "# 刪除模型無法運算的欄位\n",
        "data.drop(columns=['PassengerId','Name','Ticket','Cabin'],axis=1,inplace=True)"
      ],
      "metadata": {
        "id": "9doQJDL20b3r"
      },
      "execution_count": null,
      "outputs": []
    },
    {
      "cell_type": "markdown",
      "source": [
        "# **模型分析**"
      ],
      "metadata": {
        "id": "prDwEkyWxIft"
      }
    },
    {
      "cell_type": "code",
      "source": [
        "# 載入模型\n",
        "from sklearn.linear_model import LogisticRegression\n",
        "from sklearn.model_selection import cross_val_score\n",
        "\n",
        "# 產生訓練集和測試集\n",
        "Train = data[ pd.notnull(data.Survived) ].copy()\n",
        "Test = data[ pd.isnull(data.Survived) ].copy()"
      ],
      "metadata": {
        "id": "5BzVHPinxMnj"
      },
      "execution_count": null,
      "outputs": []
    },
    {
      "cell_type": "code",
      "source": [
        "# X_Train 為訓練集的特徵欄位\n",
        "# Y_Train 為訓練集的標籤欄位\n",
        "X_Train = Train.drop( ['Survived'], axis=1 )\n",
        "Y_Train = Train.Survived\n",
        "\n",
        "# 測試集刪除 Survived 欄位\n",
        "Test.drop( ['Survived'], axis=1, inplace=True )"
      ],
      "metadata": {
        "id": "GiuZJw1oyG2C"
      },
      "execution_count": null,
      "outputs": []
    },
    {
      "cell_type": "code",
      "source": [
        "# 使用Logistic Regression分析\n",
        "model = LogisticRegression(random_state=0,max_iter=3000)\n",
        "model.fit( X_Train, Y_Train )\n",
        "scores = cross_val_score(model,X_Train,Y_Train.values.ravel(),cv=5,scoring='accuracy').mean()\n",
        "print(scores)"
      ],
      "metadata": {
        "id": "6ASZaI7_0FcG"
      },
      "execution_count": null,
      "outputs": []
    },
    {
      "cell_type": "code",
      "source": [
        "# 預測測試集的 Survived 結果\n",
        "Test_pred = model.predict(Test)\n",
        "print( Test_pred )"
      ],
      "metadata": {
        "id": "aiYbZFJ7-Lui"
      },
      "execution_count": null,
      "outputs": []
    },
    {
      "cell_type": "code",
      "source": [
        "# 取得提交檔案\n",
        "submit['Survived'] = Test_pred.astype(int)\n",
        "submit.to_csv( 'Titanic_LogisticRegression_raw.csv', index=False )\n",
        "print( f'預測結果：' )\n",
        "print(submit)"
      ],
      "metadata": {
        "id": "0b8FDdOc2QZy"
      },
      "execution_count": null,
      "outputs": []
    },
    {
      "cell_type": "code",
      "source": [
        "# 將提交檔案存入本機\n",
        "from google.colab import files\n",
        "files.download('Titanic_LogisticRegression_raw.csv')"
      ],
      "metadata": {
        "id": "a1O2BHRu7EYj"
      },
      "execution_count": null,
      "outputs": []
    }
  ]
}